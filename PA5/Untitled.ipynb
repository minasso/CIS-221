{
 "cells": [
  {
   "cell_type": "code",
   "execution_count": 1,
   "metadata": {
    "collapsed": true
   },
   "outputs": [],
   "source": [
    "def main():\n",
    "    global names\n",
    "    global wages\n",
    "    global hours\n",
    "    while True:\n",
    "        input_var = menu()\n",
    "        if input_var == 'r':\n",
    "            filename = input('Please enter the file name: ')\n",
    "            read_employees(filename)\n",
    "        elif input_var == 'p':\n",
    "            pass\n",
    "        elif input_var == 'd':\n",
    "            name_to_display = input('choose a name to display')\n",
    "            display_by_name(name_to_display)\n",
    "        elif input_var == 'h':\n",
    "            high_low_paid_employee('h')\n",
    "        elif input_var == 'l':\n",
    "            high_low_paid_employee('l')\n",
    "        elif input_var == 'q':\n",
    "            print('Goodbye')\n",
    "            return\n",
    "        else:\n",
    "            print('Error')"
   ]
  },
  {
   "cell_type": "code",
   "execution_count": 24,
   "metadata": {
    "collapsed": true
   },
   "outputs": [],
   "source": [
    "def menu():\n",
    "    input_str = '''Menu of choices:\n",
    "                (r)ead employee data\n",
    "                (p)rint employee payroll\n",
    "                (d)isplay an employee by name\n",
    "                find (h)ighest paid employee\n",
    "                find (l)owest paid employee\n",
    "                (q)uit\\n''' \n",
    "    while True:\n",
    "        input_var = input(input_str)\n",
    "        if input_var in ['p','d','h','l']:\n",
    "            try:\n",
    "                names\n",
    "                return input_var\n",
    "            except NameError:\n",
    "                print('Employee data has not been read. \\nPlease read file before making this choice.')\n",
    "                continue\n",
    "        elif input_var in ['q','r']:\n",
    "            return input_var\n",
    "        else:\n",
    "            print('Invalid choice. Please try again')"
   ]
  },
  {
   "cell_type": "code",
   "execution_count": 21,
   "metadata": {},
   "outputs": [],
   "source": [
    "def read_employees(filename):\n",
    "    global names\n",
    "    global wages\n",
    "    global hours\n",
    "    lst=[]\n",
    "    names = []\n",
    "    wages = []\n",
    "    hours = []\n",
    "    try:\n",
    "        with open(filename,'r') as rf:\n",
    "            for line in rf.readlines():\n",
    "                lst.append(line.strip())\n",
    "        lst=sorted(lst)\n",
    "        for elem in lst:\n",
    "            l = elem.split('\\t')\n",
    "            names.append(l[0])\n",
    "            wages.append(float(l[1]))  \n",
    "            hours.append(float(l[2])+float(l[3])+float(l[4])+float(l[5])+float(l[6]))\n",
    "        print('File has been read')\n",
    "        return          \n",
    "    except IndexError:\n",
    "        print('Bad data in file {}'.format(filename))\n",
    "        return\n",
    "    except FileNotFoundError:\n",
    "        print('Error reading file {}'.format(filename))\n",
    "        return"
   ]
  },
  {
   "cell_type": "code",
   "execution_count": 27,
   "metadata": {},
   "outputs": [
    {
     "name": "stdout",
     "output_type": "stream",
     "text": [
      "File has been read\n"
     ]
    }
   ],
   "source": [
    "read_employees('g.txt')"
   ]
  },
  {
   "cell_type": "code",
   "execution_count": 4,
   "metadata": {
    "collapsed": true
   },
   "outputs": [],
   "source": [
    "def display_by_name(name):\n",
    "    name = name.title()\n",
    "    ind = names.index(name)\n",
    "    w = float(wages[ind])\n",
    "    h = float(hours[ind])\n",
    "    tot = h*w   \n",
    "    print('{} worked {} hours at ${:6.2f} per hour, and earned ${:6.2f}'.format(name,h,w,tot))"
   ]
  },
  {
   "cell_type": "code",
   "execution_count": 5,
   "metadata": {
    "collapsed": true
   },
   "outputs": [],
   "source": [
    "def high_low_paid_employee(var): \n",
    "    tot = [a*b for a,b in zip(wages,hours)]\n",
    "    if var == 'h':\n",
    "        ind = tot.index(max(tot))  \n",
    "    elif var == 'l':\n",
    "        ind = tot.index(min(tot))\n",
    "    else:\n",
    "        print('must choose h or l')\n",
    "    print('{} earned ${:6.2f}'.format(names[ind],tot[ind]))   "
   ]
  },
  {
   "cell_type": "code",
   "execution_count": 6,
   "metadata": {
    "collapsed": true
   },
   "outputs": [],
   "source": [
    "def print_payroll():\n",
    "    pay = [(a*b) for a,b in list(zip(wages,hours))]  \n",
    "    str_pay = ['${:6.2f}'.format(item) for item in pay]\n",
    "    tuples = list(zip(names,hours,str_pay))\n",
    "    layout = \"{!s:7} {!s:7} {!s:7}\"\n",
    "    headers = [\"Name\",\"Hours\",\"Pay\"]\n",
    "    print (layout.format(*headers))\n",
    "    # print ('---\\t'*3)\n",
    "    print('----\\t-----\\t---')\n",
    "    for item in tuples:\n",
    "        print (layout.format(*item))\n",
    "    total = sum(pay)\n",
    "    print('\\n')\n",
    "    print('Total payroll = ${}'.format(total))"
   ]
  }
 ],
 "metadata": {
  "kernelspec": {
   "display_name": "Python 3",
   "language": "python",
   "name": "python3"
  },
  "language_info": {
   "codemirror_mode": {
    "name": "ipython",
    "version": 3
   },
   "file_extension": ".py",
   "mimetype": "text/x-python",
   "name": "python",
   "nbconvert_exporter": "python",
   "pygments_lexer": "ipython3",
   "version": "3.5.2"
  }
 },
 "nbformat": 4,
 "nbformat_minor": 2
}
