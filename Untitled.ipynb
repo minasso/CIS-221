{
 "cells": [
  {
   "attachments": {
    "image.png": {
     "image/png": "[encoded data removed]"
    }
   },
   "cell_type": "markdown",
   "metadata": {},
   "source": [
    "![image.png](attachment:image.png)"
   ]
  },
  {
   "cell_type": "code",
   "execution_count": null,
   "metadata": {
    "collapsed": true
   },
   "outputs": [],
   "source": [
    "# def main():\n",
    "#     input_var=input('''\n",
    "#         Menu of choices:\n",
    "#                 (r)ead employee data\n",
    "#                 (p)rint employee payroll\n",
    "#                 (d)isplay an employee by name\n",
    "#                 find (h)ighest paid employee\n",
    "#                 find (l)owest paid employee\n",
    "#                 (q)uit\n",
    "#                 ''')\n",
    "#     if input_var == 'r':\n",
    "#         print('you selected {}'.format(input_var))\n",
    "#     elif input_var == 'p':\n",
    "#         print('you selected {}'.format(input_var))\n",
    "#     elif input_var == 'd':\n",
    "#         print('you selected {}'.format(input_var))\n",
    "#     elif input_var == 'h':\n",
    "#         print('you selected {}'.format(input_var))\n",
    "#     elif input_var == 'l':\n",
    "#         print('you selected {}'.format(input_var))\n",
    "#     elif input_var == 'q':\n",
    "#         print('you selected {}'.format(input_var))\n",
    "#     else:\n",
    "#         print('Error')"
   ]
  },
  {
   "cell_type": "code",
   "execution_count": 9,
   "metadata": {},
   "outputs": [],
   "source": [
    "def main():\n",
    "    input_var = menu()  \n",
    "    if input_var == 'r':\n",
    "        print('you selected {}'.format(input_var))\n",
    "        names,wages,hours = read_employees()\n",
    "    elif input_var == 'p':\n",
    "        pass\n",
    "    elif input_var == 'd':\n",
    "        print('you selected {}'.format(input_var))\n",
    "        try:\n",
    "            display_by_name()\n",
    "        except:\n",
    "            print('no good!')\n",
    "    elif input_var == 'h':\n",
    "        print('you selected {}'.format(input_var))\n",
    "    elif input_var == 'l':\n",
    "        print('you selected {}'.format(input_var))\n",
    "    elif input_var == 'q':\n",
    "        print('you selected {}'.format(input_var))\n",
    "        print('Goodbye')\n",
    "        return\n",
    "    else:\n",
    "        print('Error')"
   ]
  },
  {
   "cell_type": "code",
   "execution_count": 10,
   "metadata": {},
   "outputs": [
    {
     "name": "stdout",
     "output_type": "stream",
     "text": [
      "Pick letterp\n",
      "no good!\n"
     ]
    }
   ],
   "source": [
    "main()"
   ]
  },
  {
   "cell_type": "code",
   "execution_count": 5,
   "metadata": {
    "collapsed": true
   },
   "outputs": [],
   "source": [
    "def menu():\n",
    "    #remember to put error msg if someone chooses something other than r at first\n",
    "    #make into multi line string\n",
    "    input_var = input('Pick letter')\n",
    "    return input_var"
   ]
  },
  {
   "cell_type": "markdown",
   "metadata": {},
   "source": [
    "use it to populate three lists: a list containing each employee’s name, a list of each employee’s hourly wage, and a list containing each employee’s total hours worked for the week. "
   ]
  },
  {
   "cell_type": "code",
   "execution_count": null,
   "metadata": {
    "collapsed": true
   },
   "outputs": [],
   "source": [
    "def read_employees(filename='empwages.txt'):\n",
    "    names=[]\n",
    "    wages=[]\n",
    "    hours=[]\n",
    "    filename = input('Please enter the file name:')\n",
    "    try:\n",
    "        with open(filename,'r') as rf:\n",
    "            for line in rf.readlines():\n",
    "                lst = line.strip().split('\\t')\n",
    "                names.append(lst[0])\n",
    "                wages.append(lst[1])  \n",
    "                hours.append(float(lst[2])+float(lst[3])+float(lst[4])+float(lst[5])+float(lst[6]))\n",
    "            print(names)\n",
    "            print(wages)\n",
    "            print(hours)\n",
    "            return(names,wages,hours)\n",
    "            print('File has been read')       \n",
    "    except:\n",
    "        print('Error reading file {}'.format(filename))\n",
    "    main() "
   ]
  },
  {
   "cell_type": "code",
   "execution_count": 59,
   "metadata": {
    "scrolled": true
   },
   "outputs": [
    {
     "name": "stdout",
     "output_type": "stream",
     "text": [
      "Please enter the file name:empwages.txt\n",
      "['Smith', 'Jones', 'Miller', 'Baker', 'Ahmad', 'Choi']\n",
      "['10', '12.50', '20', '15', '11.50', '6.50']\n",
      "[42.0, 21.5, 18.5, 22.5, 25.5, 50.5]\n",
      "File has been read\n",
      "Pick letterr\n",
      "you selected r\n"
     ]
    }
   ],
   "source": [
    "read_employees()"
   ]
  },
  {
   "cell_type": "code",
   "execution_count": null,
   "metadata": {
    "collapsed": true
   },
   "outputs": [],
   "source": [
    "# def print_payroll():"
   ]
  },
  {
   "cell_type": "code",
   "execution_count": 1,
   "metadata": {
    "collapsed": true
   },
   "outputs": [],
   "source": [
    "def display_by_name(name):\n",
    "    ind = names.index(name)\n",
    "    w = wages[ind]\n",
    "    h = hours[ind]\n",
    "    print(name)\n",
    "    print(w)\n",
    "    print(h)    \n",
    "    print('{} worked {} hours at $ {} per hour, and earned {}'.format(name,h,w,h*w))"
   ]
  },
  {
   "cell_type": "code",
   "execution_count": null,
   "metadata": {
    "collapsed": true
   },
   "outputs": [],
   "source": [
    "#find the index of the max in the wages list and use that index to find all the info they want and print the string formatted in the way they want\n",
    "# def find_high_low_paid_employee(): "
   ]
  },
  {
   "cell_type": "code",
   "execution_count": null,
   "metadata": {
    "collapsed": true
   },
   "outputs": [],
   "source": []
  }
 ],
 "metadata": {
  "kernelspec": {
   "display_name": "Python 3",
   "language": "python",
   "name": "python3"
  },
  "language_info": {
   "codemirror_mode": {
    "name": "ipython",
    "version": 3
   },
   "file_extension": ".py",
   "mimetype": "text/x-python",
   "name": "python",
   "nbconvert_exporter": "python",
   "pygments_lexer": "ipython3",
   "version": "3.5.2"
  }
 },
 "nbformat": 4,
 "nbformat_minor": 2
}
