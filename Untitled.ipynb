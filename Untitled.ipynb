{
 "cells": [
  {
   "cell_type": "code",
   "execution_count": 61,
   "metadata": {
    "collapsed": true
   },
   "outputs": [],
   "source": [
    "def main():\n",
    "    global names\n",
    "    global wages\n",
    "    global hours\n",
    "    while True:\n",
    "        input_var = menu()\n",
    "        if input_var == 'r':\n",
    "            filename = input('filename?')\n",
    "            if filename == '':\n",
    "                read_employees()\n",
    "            else:\n",
    "                read_employees(filename)\n",
    "        elif input_var == 'p':\n",
    "            pass\n",
    "        elif input_var == 'd':\n",
    "            display_by_name()\n",
    "        elif input_var == 'h':\n",
    "            pass\n",
    "        elif input_var == 'l':\n",
    "            pass\n",
    "        elif input_var == 'q':\n",
    "            print('Goodbye')\n",
    "            return\n",
    "        else:\n",
    "            print('Error')"
   ]
  },
  {
   "cell_type": "code",
   "execution_count": 100,
   "metadata": {},
   "outputs": [],
   "source": [
    "def menu():\n",
    "    input_str = '''Menu of choices:\n",
    "                (r)ead employee data\n",
    "                (p)rint employee payroll\n",
    "                (d)isplay an employee by name\n",
    "                find (h)ighest paid employee\n",
    "                find (l)owest paid employee\n",
    "                (q)uit''' \n",
    "    while True:\n",
    "        input_var = input(input_str)\n",
    "        if input_var in ['r','p','d','h','l','q']:\n",
    "            if input_var in ['p','d','h','l','q']:\n",
    "                if not names:\n",
    "                    print('Must read in data first using \"r\"')\n",
    "            return input_var\n",
    "        else:\n",
    "            print('Error: selection invalid')"
   ]
  },
  {
   "cell_type": "code",
   "execution_count": 101,
   "metadata": {},
   "outputs": [
    {
     "name": "stdout",
     "output_type": "stream",
     "text": [
      "Menu of choices:\n",
      "                (r)ead employee data\n",
      "                (p)rint employee payroll\n",
      "                (d)isplay an employee by name\n",
      "                find (h)ighest paid employee\n",
      "                find (l)owest paid employee\n",
      "                (q)uitd\n"
     ]
    },
    {
     "data": {
      "text/plain": [
       "'d'"
      ]
     },
     "execution_count": 101,
     "metadata": {},
     "output_type": "execute_result"
    }
   ],
   "source": [
    "menu()"
   ]
  },
  {
   "cell_type": "code",
   "execution_count": 110,
   "metadata": {
    "collapsed": true
   },
   "outputs": [],
   "source": [
    "def read_employees(filename='empwages.txt'):\n",
    "    global names\n",
    "    global wages\n",
    "    global hours\n",
    "    lst=[]\n",
    "    names = []\n",
    "    wages = []\n",
    "    hours = []\n",
    "    try:\n",
    "        with open(filename,'r') as rf:\n",
    "            for line in rf.readlines():\n",
    "                lst.append(line.strip())\n",
    "        lst=sorted(lst)\n",
    "        for elem in lst:\n",
    "            l = elem.split('\\t')\n",
    "            names.append(l[0])\n",
    "            wages.append(float(l[1]))  \n",
    "            hours.append(float(l[2])+float(l[3])+float(l[4])+float(l[5])+float(l[6]))\n",
    "        print(names)\n",
    "        print(wages)\n",
    "        print(hours)\n",
    "        print('File has been read')\n",
    "        return          \n",
    "    except Exception as e:\n",
    "        print(e)\n",
    "        print('Error reading file {}'.format(filename))"
   ]
  },
  {
   "cell_type": "code",
   "execution_count": 111,
   "metadata": {
    "scrolled": true
   },
   "outputs": [
    {
     "name": "stdout",
     "output_type": "stream",
     "text": [
      "['Ahmad', 'Baker', 'Choi', 'Jones', 'Miller', 'Smith']\n",
      "[11.5, 15.0, 6.5, 12.5, 20.0, 10.0]\n",
      "[25.5, 22.5, 50.5, 21.5, 18.5, 42.0]\n",
      "File has been read\n"
     ]
    }
   ],
   "source": [
    "read_employees()"
   ]
  },
  {
   "cell_type": "code",
   "execution_count": 92,
   "metadata": {
    "collapsed": true
   },
   "outputs": [],
   "source": [
    "def display_by_name(name):\n",
    "    name = name.title()\n",
    "    ind = names.index(name)\n",
    "    w = float(wages[ind])\n",
    "    h = float(hours[ind])\n",
    "    tot = h*w   \n",
    "    print('{} worked {} hours at ${:6.2f} per hour, and earned ${:6.2f}'.format(name,h,w,tot))"
   ]
  },
  {
   "cell_type": "code",
   "execution_count": 112,
   "metadata": {
    "scrolled": true
   },
   "outputs": [
    {
     "name": "stdout",
     "output_type": "stream",
     "text": [
      "Baker worked 22.5 hours at $ 15.00 per hour, and earned $337.50\n"
     ]
    }
   ],
   "source": [
    "display_by_name('baker')"
   ]
  },
  {
   "cell_type": "code",
   "execution_count": 144,
   "metadata": {},
   "outputs": [],
   "source": [
    "def high_paid_employee(var): \n",
    "    tot = [a*b for a,b in zip(wages,hours)]\n",
    "    if var == 'h':\n",
    "        ind = tot.index(max(tot))  \n",
    "    elif var == 'l':\n",
    "        ind = tot.index(min(tot))\n",
    "    else:\n",
    "        print('must choose h or l')\n",
    "    print('{} earned ${:6.2f}'.format(names[ind],tot[ind]))   "
   ]
  },
  {
   "cell_type": "code",
   "execution_count": 147,
   "metadata": {},
   "outputs": [
    {
     "name": "stdout",
     "output_type": "stream",
     "text": [
      "Jones earned $268.75\n"
     ]
    }
   ],
   "source": [
    "high_paid_employee('l')"
   ]
  }
 ],
 "metadata": {
  "kernelspec": {
   "display_name": "Python 3",
   "language": "python",
   "name": "python3"
  },
  "language_info": {
   "codemirror_mode": {
    "name": "ipython",
    "version": 3
   },
   "file_extension": ".py",
   "mimetype": "text/x-python",
   "name": "python",
   "nbconvert_exporter": "python",
   "pygments_lexer": "ipython3",
   "version": "3.5.2"
  }
 },
 "nbformat": 4,
 "nbformat_minor": 2
}
